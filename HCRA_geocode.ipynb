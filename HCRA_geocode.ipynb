{
 "cells": [
  {
   "cell_type": "code",
   "execution_count": 540,
   "id": "60c795f6",
   "metadata": {},
   "outputs": [],
   "source": [
    "import requests\n",
    "import pandas as pd\n",
    "import os\n",
    "import pprint\n",
    "import geopandas\n",
    "import matplotlib.pyplot as plt\n",
    "import geodatasets\n",
    "import contextily as cx\n",
    "import numpy as np\n",
    "import json\n",
    "import googlemaps\n",
    "from googlemaps.places import find_place\n",
    "import geopy\n",
    "import bisect \n",
    "from math import radians, cos, sin, asin, sqrt\n",
    "\n",
    "API_KEY = 'MY API KEY'\n",
    "\n"
   ]
  },
  {
   "cell_type": "markdown",
   "id": "67227ac4",
   "metadata": {},
   "source": [
    "## First attempt at geocoding"
   ]
  },
  {
   "cell_type": "code",
   "execution_count": 260,
   "id": "a0902225",
   "metadata": {},
   "outputs": [
    {
     "name": "stdout",
     "output_type": "stream",
     "text": [
     ]
    }
   ],
   "source": [
    "condos = pd.read_csv(\"condo_projects.csv\", keep_default_na=False).drop_duplicates()\n",
    "condos['lat'] = ''\n",
    "condos['lng'] = ''\n",
    "\n",
    "for i in range(8618,8620): #range(0,len(condos)):\n",
    "    name_address = condos['project name'][i] + ', ' + condos['address'][i] + ', '+ condos['location'][i] + ', Ontario, Canada'\n",
    "    address =  condos['address'][i] + ', '+ condos['location'][i] + ', Ontario, Canada'\n",
    "    if len(info.json()['results'])==1:\n",
    "    info = requests.get('https://maps.googleapis.com/maps/api/geocode/json?address='+name_address+'&key='+API_KEY)\n",
    "        condos['lat'][i] = info.json()['results'][0]['geometry']['location']['lat']\n",
    "        condos['lng'][i] = info.json()['results'][0]['geometry']['location']['lng']\n",
    "    \n",
    "    #sometimes it finds multiple addresses. in these cases usually it is the project name that is confusing, so we search without it\n",
    "    else:  \n",
    "        info2 = requests.get('https://maps.googleapis.com/maps/api/geocode/json?address='+address+'&key='+API_KEY)\n",
    "        if len(info2.json()['results'])==1:\n",
    "            condos['lat'][i] = info2.json()['results'][0]['geometry']['location']['lat']\n",
    "            condos['lng'][i] = info2.json()['results'][0]['geometry']['location']['lng']\n",
    "     \n",
    "    #if still multiple or no addresses are found, give up\n",
    "        else:\n",
    "            condos['lat'][i] = 'more than one'\n",
    "            condos['lng'][i] = 'more than one'\n",
    "            \n",
    "condos.to_csv(\"condo_projects_geocoded.csv\" , index=False)"
   ]
  },
  {
   "cell_type": "markdown",
   "id": "7153d343",
   "metadata": {},
   "source": [
    "## second attempt at geocoding:\n",
    "   \n",
    "fill information for condos for which I have more than one address or none, designated by 'more than one' in lat lng column"
   ]
  },
  {
   "cell_type": "code",
   "execution_count": 361,
   "id": "344254d1",
   "metadata": {
    "collapsed": true
   },
   "outputs": [
    {
     "name": "stdout",
     "output_type": "stream",
     "text": [
     ]
    }
   ],
   "source": [
    "\n",
    "condos = pd.read_csv(\"condo_projects_geocoded.csv\")\n",
    "\n",
    "client = googlemaps.Client(key=API_KEY)\n",
    "\n",
    "for i in range(0,len(condos)):\n",
    "    if condos['lat'][i] == 'more than one':\n",
    "        name_address = str(condos['project name'][i]) + ', ' + condos['address'][i] + ', '+ condos['location'][i] + ', Ontario, Canada'\n",
    "        address =  condos['address'][i] + ', '+ condos['location'][i] + ', Ontario, Canada'\n",
    "        if client.places_autocomplete(name_address)!=[]:\n",
    "            info = client.geocode(client.places_autocomplete(name_address)[0])[0]\n",
    "            condos['lat'][i] = info['geometry']['location']['lat']\n",
    "            condos['lng'][i] = info['geometry']['location']['lng']\n",
    "        elif client.places_autocomplete(address)!=[]:\n",
    "            info = client.geocode(client.places_autocomplete(address)[0])[0]\n",
    "            condos['lat'][i] = info['geometry']['location']['lat']\n",
    "            condos['lng'][i] = info['geometry']['location']['lng']\n",
    "        elif client.addressvalidation(address)!=[]:\n",
    "            info = client.addressvalidation(address)\n",
    "            condos['lat'][i] = info['result']['geocode']['location']['latitude']\n",
    "            condos['lng'][i] = info['result']['geocode']['location']['longitude']\n",
    "            \n",
    "condos.to_csv(\"condo_projects_geocoded.csv\" , index=False)"
   ]
  },
  {
   "cell_type": "markdown",
   "id": "3557d641",
   "metadata": {},
   "source": [
    "## Third attempt at geocoding:\n",
    "correct geocodes that fall outside Ontario, which means they are geocoded by mistake\n"
   ]
  },
  {
   "cell_type": "code",
   "execution_count": 452,
   "id": "1c88a5f4",
   "metadata": {
    "collapsed": true
   },
   "outputs": [
    {
     "name": "stderr",
     "output_type": "stream",
     "text": [
      "/var/folders/t6/g6kz7nts2wdcdc7nw7g1r1vm0000gn/T/ipykernel_22814/468888412.py:25: SettingWithCopyWarning: \n",
      "A value is trying to be set on a copy of a slice from a DataFrame\n",
      "\n",
      "See the caveats in the documentation: https://pandas.pydata.org/pandas-docs/stable/user_guide/indexing.html#returning-a-view-versus-a-copy\n",
      "  condos['lat'][i] = info['result']['geocode']['location']['latitude']\n",
      "/var/folders/t6/g6kz7nts2wdcdc7nw7g1r1vm0000gn/T/ipykernel_22814/468888412.py:26: SettingWithCopyWarning: \n",
      "A value is trying to be set on a copy of a slice from a DataFrame\n",
      "\n",
      "See the caveats in the documentation: https://pandas.pydata.org/pandas-docs/stable/user_guide/indexing.html#returning-a-view-versus-a-copy\n",
      "  condos['lng'][i] = info['result']['geocode']['location']['longitude']\n"
     ]
    },
    {
     "name": "stdout",
     "output_type": "stream",
     "text": [ ]
    },
    {
     "name": "stdout",
     "output_type": "stream",
     "text": [
      "ADDRESS:   386-394 Symington Av.,485 Perth Av. &17 Kingsley Av., Toronto, Ontario, Canada\n",
      "FORMATTED ADDRESS:    394 Symington Av #386, &17, ON, Canada\n"
     ]
    }
   ],
   "source": [
    "\n",
    "condos = pd.read_csv(\"condo_projects_geocoded.csv\")\n",
    "\n",
    "cols = ['lat','lng','number of units']\n",
    "condos[cols] = condos[cols].apply(pd.to_numeric, errors='coerce')\n",
    "\n",
    "#if point is outside Ontario bounds:\n",
    "[ xmin, ymin, xmax, ymax ] = [-95.16, 41.66, -74.34, 56.86]\n",
    "conditions = [\n",
    "    (condos['lat']<ymin) ,\n",
    "    (condos['lat']>ymax) , \n",
    "    (condos['lng']<xmin) , \n",
    "    (condos['lng']>xmax)\n",
    "]\n",
    "choices = [1,1,1,1]\n",
    "condos['wrong_coords'] = np.select(conditions, choices, default=0)\n",
    "\n",
    "\n",
    "\n",
    "for i in range(0,len(condos)):\n",
    "    if condos['wrong_coords'][i] == 1:\n",
    "        address =  condos['address'][i] + ', '+ condos['location'][i] + ', Ontario, Canada'\n",
    "        info = client.addressvalidation(address)\n",
    "        condos['lat'][i] = info['result']['geocode']['location']['latitude']\n",
    "        condos['lng'][i] = info['result']['geocode']['location']['longitude']\n",
    "                            \n",
    "condos.to_csv(\"condo_projects_geocoded.csv\" , index=False)"
   ]
  },
  {
   "cell_type": "markdown",
   "id": "292892a0",
   "metadata": {},
   "source": [
    "## Nearby condos\n",
    "for each condo building, find the minimum distance one needs to go to find at least 3,5,10 other available condos from different parent companies."
   ]
  },
  {
   "cell_type": "code",
   "execution_count": 709,
   "id": "4cd747e3",
   "metadata": {},
   "outputs": [],
   "source": [
    "# read GTA data first:\n",
    "condos = pd.read_csv(\"condo_projects_geocoded.csv\")\n",
    "\n",
    "epsg = '3857'  #mapping projection identifier\n",
    "\n",
    "cols = ['lat','lng','number of units']\n",
    "condos[cols] = condos[cols].apply(pd.to_numeric, errors='coerce')\n",
    "\n",
    "\n",
    "condos_geo = geopandas.GeoDataFrame(\n",
    "    condos, geometry=geopandas.points_from_xy(pd.to_numeric(condos.lng, errors='coerce').astype(float), pd.to_numeric(condos.lat, errors='coerce').astype(float)), crs=\"EPSG:\"+epsg\n",
    ")\n",
    "\n",
    "condos_gta = condos_geo.loc[(condos_geo['lat']>43.3) & \n",
    "                            (condos_geo['lat']<44.5) & \n",
    "                            (condos_geo['lng']>-80) & \n",
    "                            (condos_geo['lng']<-79)].reset_index()"
   ]
  },
  {
   "cell_type": "code",
   "execution_count": 710,
   "id": "d7b10a0a",
   "metadata": {},
   "outputs": [],
   "source": [
    "#vectorized geo-distance calculation\n",
    "def haversine(lat1, lng1, lat2, lng2):\n",
    "    \"\"\"\n",
    "    Calculate the great circle distance in kilometers between two points \n",
    "    on the earth (specified in decimal degrees)\n",
    "    \"\"\"\n",
    "    lat1_rad = lat1*np.pi/180.0\n",
    "    lng1_rad = lng1*np.pi/180.0\n",
    "    lat2_rad = lat2*np.pi/180.0\n",
    "    lng2_rad = lng2*np.pi/180.0\n",
    "    \n",
    "    dlat = lat1_rad - lat2_rad\n",
    "    dlng = lng1_rad - lng2_rad\n",
    "    \n",
    "    # haversine formula \n",
    "    a = np.square(np.sin(np.divide(dlat, 2)) ) + np.cos(lat1_rad) * np.cos(lat2_rad) * np.square(np.sin(np.divide(dlng, 2)) )\n",
    "    c = 2 * np.arcsin(np.sqrt(a)) \n",
    "    r = 6371\n",
    "    return c * r\n",
    "\n",
    "N_closest = 101\n",
    "\n",
    "parent_companies = pd.read_csv(\"parent_crosswalk.csv\")\n",
    "condos_gta = condos_gta.merge(parent_companies,  how='left', on='link')\n",
    "\n",
    "\n",
    "condos_gta['competitor_distance_list'] = None\n",
    "for i in range(0,len(condos_gta)):\n",
    "    \n",
    "    dist = haversine(condos_gta.loc[i].lat, condos_gta.loc[i].lng,  condos_gta.lat, condos_gta.lng)\n",
    "    \n",
    "    neighbors_df = pd.DataFrame(\n",
    "        {'dist': list(dist),\n",
    "         'parent_ID': list(condos_gta.parent_ID),\n",
    "         'N_under_1km': 0,\n",
    "         'N_under_2km': 0\n",
    "        }\n",
    "    ).groupby('parent_ID').min().reset_index()  #find closest of each company's apartments to apartment i\n",
    "    \n",
    "    condos_gta.at[i,'competitor_distance_list'] = sorted(neighbors_df.dist)[0:N_closest]\n",
    "    condos_gta.at[i,'distance_to_5th'] = condos_gta['competitor_distance_list'][i][5]\n",
    "    condos_gta.at[i,'distance_to_10th'] = condos_gta['competitor_distance_list'][i][10]\n",
    "    condos_gta.at[i,'distance_to_20th'] = condos_gta['competitor_distance_list'][i][20]\n",
    "    condos_gta.at[i,'distance_to_50th'] = condos_gta['competitor_distance_list'][i][50]\n",
    "    condos_gta.at[i,'distance_to_100th'] = condos_gta['competitor_distance_list'][i][100]\n",
    "    \n",
    "    condos_gta.at[i,'N_under_1km'] = neighbors_df['dist'][neighbors_df['dist']<1].count()\n",
    "    condos_gta.at[i,'N_under_2km'] = neighbors_df['dist'][neighbors_df['dist']<2].count()\n",
    "condos_gta.to_csv(\"condo_projects_geocoded_GTA.csv\" , index=False)\n"
   ]
  }
 ],
 "metadata": {
  "kernelspec": {
   "display_name": "Python 3 (ipykernel)",
   "language": "python",
   "name": "python3"
  },
  "language_info": {
   "codemirror_mode": {
    "name": "ipython",
    "version": 3
   },
   "file_extension": ".py",
   "mimetype": "text/x-python",
   "name": "python",
   "nbconvert_exporter": "python",
   "pygments_lexer": "ipython3",
   "version": "3.11.4"
  }
 },
 "nbformat": 4,
 "nbformat_minor": 5
}
